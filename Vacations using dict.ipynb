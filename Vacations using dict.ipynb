{
 "cells": [
  {
   "cell_type": "code",
   "execution_count": 1,
   "id": "2b8a6936",
   "metadata": {},
   "outputs": [],
   "source": [
    "vacations = {\n",
    "    'Maldives': 'Maldives',\n",
    "    'Antarctica': 'Antarctica',\n",
    "    'Bahamas': 'Bahamas',\n",
    "    'Bora Bora': 'French Polynesia',\n",
    "    'Santorini': 'Greece'\n",
    "}"
   ]
  },
  {
   "cell_type": "code",
   "execution_count": 3,
   "id": "b443eecf",
   "metadata": {},
   "outputs": [
    {
     "ename": "KeyError",
     "evalue": "'Beijing'",
     "output_type": "error",
     "traceback": [
      "\u001b[0;31m---------------------------------------------------------------------------\u001b[0m",
      "\u001b[0;31mKeyError\u001b[0m                                  Traceback (most recent call last)",
      "Cell \u001b[0;32mIn[3], line 1\u001b[0m\n\u001b[0;32m----> 1\u001b[0m \u001b[38;5;28mprint\u001b[39m(vacations[\u001b[38;5;124m'\u001b[39m\u001b[38;5;124mBeijing\u001b[39m\u001b[38;5;124m'\u001b[39m])\n",
      "\u001b[0;31mKeyError\u001b[0m: 'Beijing'"
     ]
    }
   ],
   "source": [
    "print(vacations['Beijing'])"
   ]
  },
  {
   "cell_type": "code",
   "execution_count": 4,
   "id": "13c274e1",
   "metadata": {},
   "outputs": [
    {
     "name": "stdout",
     "output_type": "stream",
     "text": [
      "City not found\n"
     ]
    }
   ],
   "source": [
    "print(vacations.get('Paris', 'City not found'))"
   ]
  },
  {
   "cell_type": "code",
   "execution_count": 6,
   "id": "9ef2c21d",
   "metadata": {},
   "outputs": [
    {
     "name": "stdout",
     "output_type": "stream",
     "text": [
      "{'Maldives': 'Maldives', 'Antarctica': 'Antarctica', 'Bahamas': 'Bahamas', 'Bora Bora': 'French Polynesia', 'Santorini': 'Greece', 'Sydney': 'Australia'}\n"
     ]
    }
   ],
   "source": [
    "vacations['Sydney'] = 'Australia'\n",
    "print(vacations)"
   ]
  },
  {
   "cell_type": "code",
   "execution_count": null,
   "id": "f48a3ad5",
   "metadata": {},
   "outputs": [],
   "source": []
  }
 ],
 "metadata": {
  "kernelspec": {
   "display_name": "Python 3 (ipykernel)",
   "language": "python",
   "name": "python3"
  },
  "language_info": {
   "codemirror_mode": {
    "name": "ipython",
    "version": 3
   },
   "file_extension": ".py",
   "mimetype": "text/x-python",
   "name": "python",
   "nbconvert_exporter": "python",
   "pygments_lexer": "ipython3",
   "version": "3.11.5"
  }
 },
 "nbformat": 4,
 "nbformat_minor": 5
}
